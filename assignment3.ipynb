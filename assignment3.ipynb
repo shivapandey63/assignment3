{
 "cells": [
  {
   "cell_type": "code",
   "execution_count": 7,
   "id": "03b719fc-8959-4da4-8063-1b9c3fd33c5f",
   "metadata": {},
   "outputs": [
    {
     "name": "stdout",
     "output_type": "stream",
     "text": [
      "1\n",
      "3\n",
      "5\n",
      "7\n",
      "9\n",
      "11\n",
      "13\n",
      "15\n",
      "17\n",
      "19\n",
      "21\n",
      "23\n",
      "25\n"
     ]
    }
   ],
   "source": [
    "#answer1\n",
    "\n",
    "#The def keyword is used to create a function.\n",
    "start, end=0,25\n",
    "for i in range(start, end+1):\n",
    "    if i%2!=0:\n",
    "        print(i)"
   ]
  },
  {
   "cell_type": "code",
   "execution_count": 11,
   "id": "43e5e33d-7d80-464d-883b-4e530869326c",
   "metadata": {},
   "outputs": [
    {
     "name": "stdout",
     "output_type": "stream",
     "text": [
      "Hello\n",
      "I\n",
      "am\n",
      "Shiva\n"
     ]
    }
   ],
   "source": [
    "#Answer2\n",
    "\n",
    "#We use *args and **kwargs as an argument when we are unsure about the number of arguments to pass in the functions.\n",
    "def myfun(*argv):\n",
    "    for arg in argv:\n",
    "        print(arg)\n",
    "myfun('Hello', 'I', 'am', 'Shiva')        "
   ]
  },
  {
   "cell_type": "code",
   "execution_count": 12,
   "id": "dfaefa04-8232-472d-877b-24752768d9e2",
   "metadata": {},
   "outputs": [
    {
     "name": "stdout",
     "output_type": "stream",
     "text": [
      "first == Shiva\n",
      "mid == kant\n",
      "last == pandey\n"
     ]
    }
   ],
   "source": [
    "def myFun(**kwargs):\n",
    "    for key, value in kwargs.items():\n",
    "        print(\"%s == %s\" % (key, value))\n",
    " \n",
    " \n",
    "myFun(first='Shiva', mid='kant', last='pandey')"
   ]
  },
  {
   "cell_type": "code",
   "execution_count": 20,
   "id": "280ef5e7-883a-4613-ac0a-992a81a1741c",
   "metadata": {},
   "outputs": [
    {
     "name": "stdout",
     "output_type": "stream",
     "text": [
      "[2, 4, 6, 8, 10, 12, 14, 16, 18, 20]\n",
      "[2, 4, 6, 8, 10]\n"
     ]
    }
   ],
   "source": [
    "#Answer3\n",
    "\n",
    "#An iterator is an object that contains a countable number of values.\n",
    "#Iter() method is used to initialize the iterator object so that the instance of this object can be used for iterating.\n",
    "l = [2,4,6,8,10,12,14,16,18,20]\n",
    "N = 5\n",
    "new_list = []\n",
    "for i in range(0, N):\n",
    "    new_list.append(l[i])\n",
    "print(l)\n",
    "print(new_list)"
   ]
  },
  {
   "cell_type": "code",
   "execution_count": 21,
   "id": "64010463-2086-4593-8c06-c239245a2269",
   "metadata": {},
   "outputs": [
    {
     "name": "stdout",
     "output_type": "stream",
     "text": [
      "0\n",
      "1\n",
      "4\n",
      "9\n",
      "16\n"
     ]
    }
   ],
   "source": [
    "#ANSWER 4\n",
    "\n",
    "#Generator functions allow you to declare a function that behaves likes an iterator, allowing programmers to make an iterator in a fast, easy, and clean way.\n",
    "#yield keyword is used to create a generator function.\n",
    "squares_generator = (i * i for i in range(5))\n",
    "\n",
    "# iterate over the generator and print the values\n",
    "for i in squares_generator:\n",
    "    print(i)"
   ]
  },
  {
   "cell_type": "code",
   "execution_count": null,
   "id": "1235e041-a009-41c0-b647-8729fb556aaf",
   "metadata": {},
   "outputs": [],
   "source": [
    "#ANSWER-5\n",
    "prime_generator=(for i in range(1000))"
   ]
  },
  {
   "cell_type": "code",
   "execution_count": 1,
   "id": "a389b991-abb1-465c-bcb9-877c9a65a13f",
   "metadata": {},
   "outputs": [
    {
     "name": "stdin",
     "output_type": "stream",
     "text": [
      "enter the number of element you are looking for 5\n"
     ]
    },
    {
     "name": "stdout",
     "output_type": "stream",
     "text": [
      "0\n",
      "1\n",
      "1\n",
      "2\n",
      "3\n"
     ]
    }
   ],
   "source": [
    "#answer-6\n",
    "number = int(input(\"enter the number of element you are looking for\"))\n",
    "a,b = 0,1\n",
    "counter=0\n",
    "while counter<number:\n",
    "    print(a)\n",
    "    c=a+b\n",
    "    a=b\n",
    "    b=c\n",
    "    counter=counter+1"
   ]
  },
  {
   "cell_type": "code",
   "execution_count": 2,
   "id": "6bd953f8-8e89-4aef-806d-1b6ae4f27f8b",
   "metadata": {},
   "outputs": [
    {
     "name": "stdout",
     "output_type": "stream",
     "text": [
      "['p', 'w', 's', 'k', 'i', 'l', 'l', 's']\n"
     ]
    }
   ],
   "source": [
    "#answer-7\n",
    "l=[s for s in \"pwskills\"]\n",
    "print(l)\n"
   ]
  },
  {
   "cell_type": "code",
   "execution_count": 3,
   "id": "9472ba0f-abb4-4222-b39e-b71c2fc627b2",
   "metadata": {},
   "outputs": [
    {
     "name": "stdin",
     "output_type": "stream",
     "text": [
      "Enter a string: jarvis\n"
     ]
    },
    {
     "name": "stdout",
     "output_type": "stream",
     "text": [
      "Not a palindrome\n"
     ]
    }
   ],
   "source": [
    "#answer-8\n",
    "string=input((\"Enter a string:\"))\n",
    "if(string==string[::-1]):\n",
    "      print(\"The string is a palindrome\")\n",
    "else:\n",
    "      print(\"Not a palindrome\")"
   ]
  },
  {
   "cell_type": "code",
   "execution_count": 5,
   "id": "0c5fc5e7-68d1-4c1d-8c1a-6ecc5c52948d",
   "metadata": {},
   "outputs": [],
   "source": [
    "#answer-9\n",
    "numbers=[i for i in range(100)]"
   ]
  },
  {
   "cell_type": "code",
   "execution_count": null,
   "id": "9923699a-aac5-4f96-835a-f3cb8d7d83d6",
   "metadata": {},
   "outputs": [],
   "source": []
  }
 ],
 "metadata": {
  "kernelspec": {
   "display_name": "Python 3 (ipykernel)",
   "language": "python",
   "name": "python3"
  },
  "language_info": {
   "codemirror_mode": {
    "name": "ipython",
    "version": 3
   },
   "file_extension": ".py",
   "mimetype": "text/x-python",
   "name": "python",
   "nbconvert_exporter": "python",
   "pygments_lexer": "ipython3",
   "version": "3.10.8"
  }
 },
 "nbformat": 4,
 "nbformat_minor": 5
}
